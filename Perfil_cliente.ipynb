{
 "cells": [
  {
   "cell_type": "markdown",
   "metadata": {},
   "source": [
    "## Segmentação de Clientes\n",
    "<b> Descrição: </b>\n",
    "<p> Uma empresa vende alguns produtos e precisa saber como está o seu desempenho de vendas. Como a base de dados tem um tamhno considerável é impossivel que \n",
    "tal análise seja feita \"a olho nú\". Então, podemos segmentar clientes com base em seu comportamento de compra usando algorítimos de Machine learnig (K-Means, etc...) e o incrível poder da computação. </p>\n",
    "\n",
    "<p>Para tal tarefa teremos que: </p>\n",
    "\n",
    "-  Compreender o conjunto de dados e efetuar sua limpeza (caso necessário);\n",
    "- Construir um modelo de clustering para segmentar os clientes com base na sua similaridade;\n",
    "- Ajuste dos hiperparâmetros e comparação de alguns algorítimos de classificação.\n",
    "*** "
   ]
  },
  {
   "cell_type": "markdown",
   "metadata": {},
   "source": [
    "#### Criemos então um plano de ação para organizar melhor nossos passos até a solução do problema: \n",
    "<ol>\n",
    "<li> Exploração da base de dados; </li>\n",
    "<li> Análise exploratória dos dados; </li>\n",
    "<li> Pre-processamento dos dados; </li>\n",
    "<li> Manipulação dos dados; </li>\n",
    "<li> Modelagem preditiva; </li>\n",
    "<li> Resultados e conclusão. </li>\n",
    "</ol>\n",
    "\n",
    "***"
   ]
  },
  {
   "cell_type": "markdown",
   "metadata": {},
   "source": [
    "##### Importação de bibliotecas"
   ]
  },
  {
   "cell_type": "code",
   "execution_count": 1,
   "metadata": {},
   "outputs": [],
   "source": [
    "import pandas as pd\n",
    "\n",
    "import os\n",
    "import math\n",
    "import scipy\n",
    "import datetime\n",
    "import numpy as np\n",
    "import seaborn as sns\n",
    "from scipy import stats\n",
    "from scipy.stats import randint\n",
    "from scipy.stats import loguniform\n",
    "from IPython.display import display\n",
    "\n",
    "from sklearn.cluster import KMeans\n",
    "from sklearn.preprocessing import OneHotEncoder\n",
    "from sklearn.preprocessing import StandardScaler\n",
    "from sklearn.model_selection import train_test_split\n",
    "\n",
    "import matplotlib.pyplot as plt\n",
    "plt.rcParams['figure.figsize'] = [35,10]\n",
    "\n",
    "import warnings\n",
    "warnings.filterwarnings('ignore')\n",
    "\n"
   ]
  },
  {
   "cell_type": "markdown",
   "metadata": {},
   "source": [
    "### 1. Carga e exploração dos dados"
   ]
  },
  {
   "cell_type": "code",
   "execution_count": 28,
   "metadata": {},
   "outputs": [],
   "source": [
    "#Carga dos dados\n",
    "df = pd.read_excel('Data\\Online Retail.xlsx')"
   ]
  },
  {
   "cell_type": "code",
   "execution_count": 3,
   "metadata": {},
   "outputs": [
    {
     "data": {
      "text/html": [
       "<div>\n",
       "<style scoped>\n",
       "    .dataframe tbody tr th:only-of-type {\n",
       "        vertical-align: middle;\n",
       "    }\n",
       "\n",
       "    .dataframe tbody tr th {\n",
       "        vertical-align: top;\n",
       "    }\n",
       "\n",
       "    .dataframe thead th {\n",
       "        text-align: right;\n",
       "    }\n",
       "</style>\n",
       "<table border=\"1\" class=\"dataframe\">\n",
       "  <thead>\n",
       "    <tr style=\"text-align: right;\">\n",
       "      <th></th>\n",
       "      <th>InvoiceNo</th>\n",
       "      <th>StockCode</th>\n",
       "      <th>Description</th>\n",
       "      <th>Quantity</th>\n",
       "      <th>InvoiceDate</th>\n",
       "      <th>UnitPrice</th>\n",
       "      <th>CustomerID</th>\n",
       "      <th>Country</th>\n",
       "    </tr>\n",
       "  </thead>\n",
       "  <tbody>\n",
       "    <tr>\n",
       "      <th>0</th>\n",
       "      <td>536365</td>\n",
       "      <td>85123A</td>\n",
       "      <td>WHITE HANGING HEART T-LIGHT HOLDER</td>\n",
       "      <td>6</td>\n",
       "      <td>2010-12-01 08:26:00</td>\n",
       "      <td>2.55</td>\n",
       "      <td>17850.0</td>\n",
       "      <td>United Kingdom</td>\n",
       "    </tr>\n",
       "    <tr>\n",
       "      <th>1</th>\n",
       "      <td>536365</td>\n",
       "      <td>71053</td>\n",
       "      <td>WHITE METAL LANTERN</td>\n",
       "      <td>6</td>\n",
       "      <td>2010-12-01 08:26:00</td>\n",
       "      <td>3.39</td>\n",
       "      <td>17850.0</td>\n",
       "      <td>United Kingdom</td>\n",
       "    </tr>\n",
       "    <tr>\n",
       "      <th>2</th>\n",
       "      <td>536365</td>\n",
       "      <td>84406B</td>\n",
       "      <td>CREAM CUPID HEARTS COAT HANGER</td>\n",
       "      <td>8</td>\n",
       "      <td>2010-12-01 08:26:00</td>\n",
       "      <td>2.75</td>\n",
       "      <td>17850.0</td>\n",
       "      <td>United Kingdom</td>\n",
       "    </tr>\n",
       "    <tr>\n",
       "      <th>3</th>\n",
       "      <td>536365</td>\n",
       "      <td>84029G</td>\n",
       "      <td>KNITTED UNION FLAG HOT WATER BOTTLE</td>\n",
       "      <td>6</td>\n",
       "      <td>2010-12-01 08:26:00</td>\n",
       "      <td>3.39</td>\n",
       "      <td>17850.0</td>\n",
       "      <td>United Kingdom</td>\n",
       "    </tr>\n",
       "    <tr>\n",
       "      <th>4</th>\n",
       "      <td>536365</td>\n",
       "      <td>84029E</td>\n",
       "      <td>RED WOOLLY HOTTIE WHITE HEART.</td>\n",
       "      <td>6</td>\n",
       "      <td>2010-12-01 08:26:00</td>\n",
       "      <td>3.39</td>\n",
       "      <td>17850.0</td>\n",
       "      <td>United Kingdom</td>\n",
       "    </tr>\n",
       "  </tbody>\n",
       "</table>\n",
       "</div>"
      ],
      "text/plain": [
       "  InvoiceNo StockCode                          Description  Quantity  \\\n",
       "0    536365    85123A   WHITE HANGING HEART T-LIGHT HOLDER         6   \n",
       "1    536365     71053                  WHITE METAL LANTERN         6   \n",
       "2    536365    84406B       CREAM CUPID HEARTS COAT HANGER         8   \n",
       "3    536365    84029G  KNITTED UNION FLAG HOT WATER BOTTLE         6   \n",
       "4    536365    84029E       RED WOOLLY HOTTIE WHITE HEART.         6   \n",
       "\n",
       "          InvoiceDate  UnitPrice  CustomerID         Country  \n",
       "0 2010-12-01 08:26:00       2.55     17850.0  United Kingdom  \n",
       "1 2010-12-01 08:26:00       3.39     17850.0  United Kingdom  \n",
       "2 2010-12-01 08:26:00       2.75     17850.0  United Kingdom  \n",
       "3 2010-12-01 08:26:00       3.39     17850.0  United Kingdom  \n",
       "4 2010-12-01 08:26:00       3.39     17850.0  United Kingdom  "
      ]
     },
     "metadata": {},
     "output_type": "display_data"
    },
    {
     "name": "stdout",
     "output_type": "stream",
     "text": [
      " \n",
      "\u001b[1mConsiderações:\u001b[0m  A base de dados consiste em: 8 Colunas  & 541909 Amostras. Sendo que temos 4224 tipos de produtos diferentes.\n"
     ]
    }
   ],
   "source": [
    "#Criação de cópia do Dataframe\n",
    "dfOriginal = df.copy(deep=True)\n",
    "\n",
    "#Mostrando em tela as 5 primeiras linhas\n",
    "display(df.head())\n",
    "\n",
    "# Análise superficial do DataSet\n",
    "print(' \\n\\033[1mConsiderações:\\033[0m  A base de dados consiste em: {} Colunas  & {} Amostras. Sendo que temos {} tipos de produtos diferentes.'.format(df.shape[1], df.shape[0], len(df.Description.unique())))"
   ]
  },
  {
   "cell_type": "code",
   "execution_count": 74,
   "metadata": {},
   "outputs": [
    {
     "data": {
      "text/html": [
       "<div>\n",
       "<style scoped>\n",
       "    .dataframe tbody tr th:only-of-type {\n",
       "        vertical-align: middle;\n",
       "    }\n",
       "\n",
       "    .dataframe tbody tr th {\n",
       "        vertical-align: top;\n",
       "    }\n",
       "\n",
       "    .dataframe thead th {\n",
       "        text-align: right;\n",
       "    }\n",
       "</style>\n",
       "<table border=\"1\" class=\"dataframe\">\n",
       "  <thead>\n",
       "    <tr style=\"text-align: right;\">\n",
       "      <th></th>\n",
       "      <th>Recência</th>\n",
       "      <th>Frequencia</th>\n",
       "      <th>ValorTotal</th>\n",
       "    </tr>\n",
       "    <tr>\n",
       "      <th>IDCliente</th>\n",
       "      <th></th>\n",
       "      <th></th>\n",
       "      <th></th>\n",
       "    </tr>\n",
       "  </thead>\n",
       "  <tbody>\n",
       "    <tr>\n",
       "      <th>12347.0</th>\n",
       "      <td>3</td>\n",
       "      <td>5</td>\n",
       "      <td>81.60</td>\n",
       "    </tr>\n",
       "    <tr>\n",
       "      <th>12349.0</th>\n",
       "      <td>19</td>\n",
       "      <td>1</td>\n",
       "      <td>19.90</td>\n",
       "    </tr>\n",
       "    <tr>\n",
       "      <th>12353.0</th>\n",
       "      <td>205</td>\n",
       "      <td>1</td>\n",
       "      <td>39.80</td>\n",
       "    </tr>\n",
       "    <tr>\n",
       "      <th>12354.0</th>\n",
       "      <td>233</td>\n",
       "      <td>2</td>\n",
       "      <td>25.45</td>\n",
       "    </tr>\n",
       "    <tr>\n",
       "      <th>12356.0</th>\n",
       "      <td>326</td>\n",
       "      <td>1</td>\n",
       "      <td>50.00</td>\n",
       "    </tr>\n",
       "  </tbody>\n",
       "</table>\n",
       "</div>"
      ],
      "text/plain": [
       "           Recência  Frequencia  ValorTotal\n",
       "IDCliente                                  \n",
       "12347.0           3           5       81.60\n",
       "12349.0          19           1       19.90\n",
       "12353.0         205           1       39.80\n",
       "12354.0         233           2       25.45\n",
       "12356.0         326           1       50.00"
      ]
     },
     "metadata": {},
     "output_type": "display_data"
    }
   ],
   "source": [
    "# Criando Tabela MRF\n",
    "df_s = df.sample(10000, random_state=42)\n",
    "#Transformando 'InvoiceDate' em tipo date\n",
    "df_s['InvoiceDate'] = df_s['InvoiceDate'].dt.date\n",
    "#Calculando Valor total de venda\n",
    "df_s['ValorTotal'] = df_s['Quantity'] * df_s['UnitPrice']\n",
    "\n",
    "df_s.rename(columns={'CustomerID' : 'IDCliente'}, inplace=True)\n",
    "\n",
    "date_m = max(df_s['InvoiceDate'] + datetime.timedelta(days=1))\n",
    "\n",
    "#Agrupando Clientes por ID e agregando contagem de 'data da fatura', contagem de 'Número da Fatura' e 'Valor total' \n",
    "clientes = df_s.groupby(by='IDCliente').agg({'InvoiceDate' : lambda x: (date_m - x.max()).days, \n",
    "'InvoiceNo' :'count', 'ValorTotal':'sum'})\n",
    "\n",
    "#Renomeando as colunas\n",
    "clientes.rename(columns = {'InvoiceDate': 'Recência','InvoiceNo': 'Frequencia'}, inplace=True)\n",
    "\n",
    "display(clientes.head())\n",
    "\n",
    "\n"
   ]
  },
  {
   "cell_type": "code",
   "execution_count": 75,
   "metadata": {},
   "outputs": [
    {
     "name": "stdout",
     "output_type": "stream",
     "text": [
      "-1867.86\n"
     ]
    }
   ],
   "source": [
    "\"\"\" Limpando valores negativos de Clientes\n",
    "clientes = clientes[clientes.TotalValue>0]\n",
    "print(clientes.TotalValue.min())\n",
    "\"\"\"\n",
    "print(clientes.ValorTotal.min())"
   ]
  },
  {
   "cell_type": "code",
   "execution_count": 76,
   "metadata": {},
   "outputs": [
    {
     "name": "stdout",
     "output_type": "stream",
     "text": [
      "<class 'pandas.core.frame.DataFrame'>\n",
      "Float64Index: 2433 entries, 12347.0 to 18287.0\n",
      "Data columns (total 3 columns):\n",
      " #   Column      Non-Null Count  Dtype  \n",
      "---  ------      --------------  -----  \n",
      " 0   Recência    2433 non-null   int64  \n",
      " 1   Frequencia  2433 non-null   int64  \n",
      " 2   ValorTotal  2433 non-null   float64\n",
      "dtypes: float64(1), int64(2)\n",
      "memory usage: 76.0 KB\n"
     ]
    }
   ],
   "source": [
    "# Checagem dos tipos de todas as colunas\n",
    "clientes.info()"
   ]
  },
  {
   "cell_type": "code",
   "execution_count": 77,
   "metadata": {},
   "outputs": [
    {
     "data": {
      "text/html": [
       "<div>\n",
       "<style scoped>\n",
       "    .dataframe tbody tr th:only-of-type {\n",
       "        vertical-align: middle;\n",
       "    }\n",
       "\n",
       "    .dataframe tbody tr th {\n",
       "        vertical-align: top;\n",
       "    }\n",
       "\n",
       "    .dataframe thead th {\n",
       "        text-align: right;\n",
       "    }\n",
       "</style>\n",
       "<table border=\"1\" class=\"dataframe\">\n",
       "  <thead>\n",
       "    <tr style=\"text-align: right;\">\n",
       "      <th></th>\n",
       "      <th>count</th>\n",
       "      <th>mean</th>\n",
       "      <th>std</th>\n",
       "      <th>min</th>\n",
       "      <th>25%</th>\n",
       "      <th>50%</th>\n",
       "      <th>75%</th>\n",
       "      <th>max</th>\n",
       "    </tr>\n",
       "  </thead>\n",
       "  <tbody>\n",
       "    <tr>\n",
       "      <th>Recência</th>\n",
       "      <td>2433.0</td>\n",
       "      <td>115.114673</td>\n",
       "      <td>105.746852</td>\n",
       "      <td>1.00</td>\n",
       "      <td>30.0</td>\n",
       "      <td>73.00</td>\n",
       "      <td>191.0</td>\n",
       "      <td>374.00</td>\n",
       "    </tr>\n",
       "    <tr>\n",
       "      <th>Frequencia</th>\n",
       "      <td>2433.0</td>\n",
       "      <td>3.076038</td>\n",
       "      <td>5.693838</td>\n",
       "      <td>1.00</td>\n",
       "      <td>1.0</td>\n",
       "      <td>2.00</td>\n",
       "      <td>3.0</td>\n",
       "      <td>137.00</td>\n",
       "    </tr>\n",
       "    <tr>\n",
       "      <th>ValorTotal</th>\n",
       "      <td>2433.0</td>\n",
       "      <td>60.757185</td>\n",
       "      <td>205.094177</td>\n",
       "      <td>-1867.86</td>\n",
       "      <td>12.4</td>\n",
       "      <td>24.77</td>\n",
       "      <td>53.1</td>\n",
       "      <td>4887.33</td>\n",
       "    </tr>\n",
       "  </tbody>\n",
       "</table>\n",
       "</div>"
      ],
      "text/plain": [
       "             count        mean         std      min   25%    50%    75%  \\\n",
       "Recência    2433.0  115.114673  105.746852     1.00  30.0  73.00  191.0   \n",
       "Frequencia  2433.0    3.076038    5.693838     1.00   1.0   2.00    3.0   \n",
       "ValorTotal  2433.0   60.757185  205.094177 -1867.86  12.4  24.77   53.1   \n",
       "\n",
       "                max  \n",
       "Recência     374.00  \n",
       "Frequencia   137.00  \n",
       "ValorTotal  4887.33  "
      ]
     },
     "execution_count": 77,
     "metadata": {},
     "output_type": "execute_result"
    }
   ],
   "source": [
    "clientes.describe().transpose()"
   ]
  },
  {
   "cell_type": "markdown",
   "metadata": {},
   "source": [
    "***\n",
    "- Em análise sumária, as estatísticas parecem boas. Vamos entender melhor os dados por meio de análise gráfica.\n",
    "***"
   ]
  },
  {
   "cell_type": "markdown",
   "metadata": {},
   "source": [
    "### 2. Análise exploratória dos dados."
   ]
  },
  {
   "cell_type": "code",
   "execution_count": 92,
   "metadata": {},
   "outputs": [
    {
     "name": "stdout",
     "output_type": "stream",
     "text": [
      "\u001b[1mRMF Distribuição de Variáveis\n"
     ]
    },
    {
     "data": {
      "image/png": "[encoded data removed]",
      "text/plain": [
       "<Figure size 2160x360 with 3 Axes>"
      ]
     },
     "metadata": {
      "needs_background": "light"
     },
     "output_type": "display_data"
    },
    {
     "data": {
      "image/png": "[encoded data removed]",
      "text/plain": [
       "<Figure size 2160x360 with 3 Axes>"
      ]
     },
     "metadata": {
      "needs_background": "light"
     },
     "output_type": "display_data"
    }
   ],
   "source": [
    "print('\\033[1mRMF Distribuição de Variáveis')\n",
    "\n",
    "ngraficos = 3\n",
    "col = [i for i in clientes.columns]\n",
    "\n",
    "#Ajustando o tamanho do plot gráfico\n",
    "plt.figure(figsize=[30, 5*math.ceil(len(col)/ngraficos)])\n",
    "\n",
    "#Plotando informações\n",
    "for c in range(len(col)):\n",
    "    plt.subplot(math.ceil(len(col)/ngraficos),ngraficos, c+1)\n",
    "    plt.ylabel('Valor')\n",
    "    sns.distplot(clientes[col[c]])\n",
    "\n",
    "plt.tight_layout()\n",
    "plt.show()    \n",
    "\n",
    "plt.figure(figsize=[30,5*math.ceil(len(col)/ngraficos)])\n",
    "for c in range(len(col)):\n",
    "    plt.subplot(math.ceil(len(col)/ngraficos),ngraficos,c+1)\n",
    "    clientes.boxplot(col[c])\n",
    "plt.tight_layout()\n",
    "plt.show()"
   ]
  }
 ],
 "metadata": {
  "interpreter": {
   "hash": "85da76da8e8b5a4a88b789eefe8394fd091a66661cd8e69233b11ec73b6862a2"
  },
  "kernelspec": {
   "display_name": "Python 3.9.0 64-bit",
   "language": "python",
   "name": "python3"
  },
  "language_info": {
   "codemirror_mode": {
    "name": "ipython",
    "version": 3
   },
   "file_extension": ".py",
   "mimetype": "text/x-python",
   "name": "python",
   "nbconvert_exporter": "python",
   "pygments_lexer": "ipython3",
   "version": "3.9.0"
  },
  "orig_nbformat": 4
 },
 "nbformat": 4,
 "nbformat_minor": 2
}
